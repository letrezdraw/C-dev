{
 "cells": [
  {
   "cell_type": "code",
   "execution_count": null,
   "id": "9447471e",
   "metadata": {},
   "outputs": [],
   "source": [
    "from heapq import heappush, heappop"
   ]
  },
  {
   "cell_type": "code",
   "execution_count": 1,
   "id": "887c1f71",
   "metadata": {},
   "outputs": [
    {
     "name": "stdout",
     "output_type": "stream",
     "text": [
      "[2, 8, 3]\n",
      "[1, 6, 4]\n",
      "[7, 0, 5]\n",
      "\n",
      "[2, 8, 3]\n",
      "[1, 0, 4]\n",
      "[7, 6, 5]\n",
      "\n",
      "[2, 0, 3]\n",
      "[1, 8, 4]\n",
      "[7, 6, 5]\n",
      "\n",
      "[0, 2, 3]\n",
      "[1, 8, 4]\n",
      "[7, 6, 5]\n",
      "\n",
      "[1, 2, 3]\n",
      "[0, 8, 4]\n",
      "[7, 6, 5]\n",
      "\n",
      "[1, 2, 3]\n",
      "[8, 0, 4]\n",
      "[7, 6, 5]\n",
      "\n"
     ]
    }
   ],
   "source": [
    "from heapq import heappush, heappop\n",
    "\n",
    "start=[[2,8,3],[1,6,4],[7,0,5]]\n",
    "goal=[[1,2,3],[8,0,4],[7,6,5]]\n",
    "moves=[(1,0),(-1,0),(0,1),(0,-1)]\n",
    "\n",
    "def h(s): return sum(s[i][j]!=goal[i][j] and s[i][j]!=0 for i in range(3) for j in range(3))\n",
    "def pos(s,v): \n",
    "    for i in range(3):\n",
    "        for j in range(3):\n",
    "            if s[i][j]==v: return i,j\n",
    "\n",
    "def astar():\n",
    "    pq=[(h(start),0,start,[])]\n",
    "    seen=set()\n",
    "    while pq:\n",
    "        f,g,s,path=heappop(pq)\n",
    "        if s==goal: return path+[s]\n",
    "        t=tuple(sum(s,[]))\n",
    "        if t in seen: continue\n",
    "        seen.add(t)\n",
    "        x,y=pos(s,0)\n",
    "        for dx,dy in moves:\n",
    "            nx,ny=x+dx,y+dy\n",
    "            if 0<=nx<3 and 0<=ny<3:\n",
    "                ns=[row[:] for row in s]\n",
    "                ns[x][y],ns[nx][ny]=ns[nx][ny],ns[x][y]\n",
    "                heappush(pq,(g+1+h(ns),g+1,ns,path+[s]))\n",
    "\n",
    "sol=astar()\n",
    "for st in sol:\n",
    "    for r in st: print(r)\n",
    "    print()"
   ]
  }
 ],
 "metadata": {
  "kernelspec": {
   "display_name": "Python 3",
   "language": "python",
   "name": "python3"
  },
  "language_info": {
   "codemirror_mode": {
    "name": "ipython",
    "version": 3
   },
   "file_extension": ".py",
   "mimetype": "text/x-python",
   "name": "python",
   "nbconvert_exporter": "python",
   "pygments_lexer": "ipython3",
   "version": "3.12.1"
  }
 },
 "nbformat": 4,
 "nbformat_minor": 5
}
