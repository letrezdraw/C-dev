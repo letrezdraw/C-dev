{
 "cells": [
  {
   "cell_type": "code",
   "execution_count": null,
   "id": "887c1f71",
   "metadata": {
    "vscode": {
     "languageId": "plaintext"
    }
   },
   "outputs": [],
   "source": [
    "from heapq import heappush, heappop

start=[[2,8,3],[1,6,4],[7,0,5]]
goal=[[1,2,3],[8,0,4],[7,6,5]]
moves=[(1,0),(-1,0),(0,1),(0,-1)]

def h(s): return sum(s[i][j]!=goal[i][j] and s[i][j]!=0 for i in range(3) for j in range(3))
def pos(s,v): 
    for i in range(3):
        for j in range(3):
            if s[i][j]==v: return i,j

def astar():
    pq=[(h(start),0,start,[])]
    seen=set()
    while pq:
        f,g,s,path=heappop(pq)
        if s==goal: return path+[s]
        t=tuple(sum(s,[]))
        if t in seen: continue
        seen.add(t)
        x,y=pos(s,0)
        for dx,dy in moves:
            nx,ny=x+dx,y+dy
            if 0<=nx<3 and 0<=ny<3:
                ns=[row[:] for row in s]
                ns[x][y],ns[nx][ny]=ns[nx][ny],ns[x][y]
                heappush(pq,(g+1+h(ns),g+1,ns,path+[s]))

sol=astar()
for st in sol:
    for r in st: print(r)
    print()"
   ]
  }
 ],
 "metadata": {
  "language_info": {
   "name": "python"
  }
 },
 "nbformat": 4,
 "nbformat_minor": 5
}
