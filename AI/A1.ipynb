{
 "cells": [
  {
   "cell_type": "code",
   "execution_count": 2,
   "id": "887c1f71",
   "metadata": {},
   "outputs": [
    {
     "name": "stdout",
     "output_type": "stream",
     "text": [
      "[2, 8, 3]\n",
      "[1, 6, 4]\n",
      "[7, 0, 5]\n",
      "\n",
      "[2, 8, 3]\n",
      "[1, 0, 4]\n",
      "[7, 6, 5]\n",
      "\n",
      "[2, 0, 3]\n",
      "[1, 8, 4]\n",
      "[7, 6, 5]\n",
      "\n",
      "[0, 2, 3]\n",
      "[1, 8, 4]\n",
      "[7, 6, 5]\n",
      "\n",
      "[1, 2, 3]\n",
      "[0, 8, 4]\n",
      "[7, 6, 5]\n",
      "\n",
      "[1, 2, 3]\n",
      "[8, 0, 4]\n",
      "[7, 6, 5]\n",
      "\n"
     ]
    }
   ],
   "source": [
    "from heapq import heappush, heappop\n",
    "\n",
    "start=[[2,8,3],[1,6,4],[7,0,5]]\n",
    "goal=[[1,2,3],[8,0,4],[7,6,5]]\n",
    "moves=[(1,0),(-1,0),(0,1),(0,-1)]\n",
    "\n",
    "def h(s): return sum(s[i][j]!=goal[i][j] and s[i][j]!=0 for i in range(3) for j in range(3))\n",
    "def pos(s,v): \n",
    "    for i in range(3):\n",
    "        for j in range(3):\n",
    "            if s[i][j]==v: return i,j\n",
    "\n",
    "def astar():\n",
    "    pq=[(h(start),0,start,[])]\n",
    "    seen=set()\n",
    "    while pq:\n",
    "        f,g,s,path=heappop(pq)\n",
    "        if s==goal: return path+[s]\n",
    "        t=tuple(sum(s,[]))\n",
    "        if t in seen: continue\n",
    "        seen.add(t)\n",
    "        x,y=pos(s,0)\n",
    "        for dx,dy in moves:\n",
    "            nx,ny=x+dx,y+dy\n",
    "            if 0<=nx<3 and 0<=ny<3:\n",
    "                ns=[row[:] for row in s]\n",
    "                ns[x][y],ns[nx][ny]=ns[nx][ny],ns[x][y]\n",
    "                heappush(pq,(g+1+h(ns),g+1,ns,path+[s]))\n",
    "\n",
    "sol=astar()\n",
    "for st in sol:\n",
    "    for r in st: print(r)\n",
    "    print()"
   ]
  },
  {
   "cell_type": "code",
   "execution_count": 3,
   "id": "23d33af4",
   "metadata": {},
   "outputs": [
    {
     "name": "stdout",
     "output_type": "stream",
     "text": [
      "Path: A->F->G->I->J  Cost: 10\n"
     ]
    }
   ],
   "source": [
    "from heapq import heappush, heappop\n",
    "\n",
    "graph={\n",
    " 'A':{'B':6,'F':3},\n",
    " 'B':{'A':6,'C':3,'D':2},\n",
    " 'C':{'B':3,'D':1,'E':5},\n",
    " 'D':{'B':2,'C':1,'E':8,'G':7},\n",
    " 'E':{'C':5,'D':8,'I':5,'J':5},\n",
    " 'F':{'A':3,'G':1,'H':7},\n",
    " 'G':{'F':1,'D':7,'I':3},\n",
    " 'H':{'F':7,'I':2},\n",
    " 'I':{'G':3,'H':2,'E':5,'J':3},\n",
    " 'J':{'E':5,'I':3}\n",
    "}\n",
    "h={'A':10,'B':8,'C':5,'D':7,'E':3,'F':6,'G':5,'H':3,'I':1,'J':0}\n",
    "\n",
    "def astar(s,goal):\n",
    "    pq=[(h[s],0,s,[s])]\n",
    "    seen=set()\n",
    "    while pq:\n",
    "        f,g,u,path=heappop(pq)\n",
    "        if u==goal: return path,g\n",
    "        if u in seen: continue\n",
    "        seen.add(u)\n",
    "        for v,c in graph[u].items():\n",
    "            heappush(pq,(g+c+h[v],g+c,v,path+[v]))\n",
    "\n",
    "path,cost=astar('A','J')\n",
    "print(\"Path:\",'->'.join(path),\" Cost:\",cost)"
   ]
  },
  {
   "cell_type": "code",
   "execution_count": 4,
   "id": "7d4b2aee",
   "metadata": {},
   "outputs": [
    {
     "name": "stdout",
     "output_type": "stream",
     "text": [
      "Path: A->C->E  Cost: 3\n"
     ]
    }
   ],
   "source": [
    "from heapq import heappush, heappop\n",
    "\n",
    "graph={\n",
    " 'A':{'B':1,'C':2,'D':5},\n",
    " 'B':{'A':1,'C':2},\n",
    " 'C':{'A':2,'B':2,'D':2,'E':1},\n",
    " 'D':{'A':5,'C':2,'E':2},\n",
    " 'E':{}\n",
    "}\n",
    "h={'A':8,'B':4,'C':3,'D':2,'E':0}\n",
    "\n",
    "def astar(s,goal):\n",
    "    pq=[(h[s],0,s,[s])]\n",
    "    seen=set()\n",
    "    while pq:\n",
    "        f,g,u,path=heappop(pq)\n",
    "        if u==goal: return path,g\n",
    "        if u in seen: continue\n",
    "        seen.add(u)\n",
    "        for v,c in graph[u].items():\n",
    "            heappush(pq,(g+c+h[v],g+c,v,path+[v]))\n",
    "\n",
    "path,cost=astar('A','E')\n",
    "print(\"Path:\",'->'.join(path),\" Cost:\",cost)"
   ]
  }
 ],
 "metadata": {
  "kernelspec": {
   "display_name": "Python 3",
   "language": "python",
   "name": "python3"
  },
  "language_info": {
   "codemirror_mode": {
    "name": "ipython",
    "version": 3
   },
   "file_extension": ".py",
   "mimetype": "text/x-python",
   "name": "python",
   "nbconvert_exporter": "python",
   "pygments_lexer": "ipython3",
   "version": "3.12.1"
  }
 },
 "nbformat": 4,
 "nbformat_minor": 5
}
